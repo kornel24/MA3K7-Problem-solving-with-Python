{
 "cells": [
  {
   "cell_type": "code",
   "execution_count": 26,
   "id": "0c003545-54dd-497c-a704-d4b4aa32a346",
   "metadata": {},
   "outputs": [
    {
     "data": {
      "image/png": "[encoded data removed]",
      "text/plain": [
       "<Figure size 432x288 with 1 Axes>"
      ]
     },
     "metadata": {
      "needs_background": "light"
     },
     "output_type": "display_data"
    }
   ],
   "source": [
    "import matplotlib.pyplot as plt \n",
    "import numpy as np\n",
    "\n",
    "array=[[0,1,2,1,2,1,2,1,2],\n",
    "       [1,0,1,2,3,2,3,2,1],\n",
    "      [2,1,0,1,2,3,4,3,2],\n",
    "       [1,2,1,0,1,2,3,2,3],\n",
    "      [2,3,2,1,0,1,2,3,4],\n",
    "       [1,2,3,2,1,0,1,2,3],\n",
    "      [2,3,4,3,2,1,0,1,2],\n",
    "       [1,2,3,2,3,2,1,0,1],\n",
    "      [2,1,2,3,4,3,2,1,0]]\n",
    "plt.imshow(array, cmap='Set3')\n",
    "plt.xticks(np.arange(0,9,1),np.arange(1, 10, 1))\n",
    "plt.yticks(np.arange(0,9,1),np.arange(1, 10, 1))\n",
    "plt.savefig('table.png')"
   ]
  },
  {
   "cell_type": "code",
   "execution_count": 27,
   "id": "a0722de8-e79b-4ad1-9c69-4047199c907e",
   "metadata": {},
   "outputs": [
    {
     "data": {
      "image/png": "[encoded data removed]",
      "text/plain": [
       "<Figure size 432x288 with 1 Axes>"
      ]
     },
     "metadata": {
      "needs_background": "light"
     },
     "output_type": "display_data"
    }
   ],
   "source": [
    "array=[[0,1,2,1,2,1,2,1,2],\n",
    "       [1,0,1,2,1,2,1,2,1],\n",
    "      [2,1,0,1,2,1,2,1,2],\n",
    "       [1,2,1,0,1,2,1,2,1],\n",
    "      [2,1,2,1,0,1,2,1,2],\n",
    "       [1,2,1,2,1,0,1,2,1],\n",
    "      [2,1,2,1,2,1,0,1,2],\n",
    "       [1,2,1,2,1,2,1,0,1],\n",
    "      [2,1,2,1,2,1,2,1,0]]\n",
    "plt.imshow(array, cmap='Set3')\n",
    "plt.xticks(np.arange(0,9,1),np.arange(1, 10, 1))\n",
    "plt.yticks(np.arange(0,9,1),np.arange(1, 10, 1))\n",
    "plt.savefig('table2.png')"
   ]
  },
  {
   "cell_type": "code",
   "execution_count": null,
   "id": "bf58206a-6b5b-479d-9c31-322087b807bb",
   "metadata": {},
   "outputs": [],
   "source": []
  }
 ],
 "metadata": {
  "kernelspec": {
   "display_name": "Python 3 (ipykernel)",
   "language": "python",
   "name": "python3"
  },
  "language_info": {
   "codemirror_mode": {
    "name": "ipython",
    "version": 3
   },
   "file_extension": ".py",
   "mimetype": "text/x-python",
   "name": "python",
   "nbconvert_exporter": "python",
   "pygments_lexer": "ipython3",
   "version": "3.9.7"
  }
 },
 "nbformat": 4,
 "nbformat_minor": 5
}

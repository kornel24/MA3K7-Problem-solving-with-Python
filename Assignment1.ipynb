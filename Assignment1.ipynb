{
 "cells": [
  {
   "cell_type": "code",
   "execution_count": 25,
   "id": "8eb20263-b211-4830-9a8d-ac067fac992c",
   "metadata": {},
   "outputs": [
    {
     "name": "stdout",
     "output_type": "stream",
     "text": [
      "99\n",
      "[[0, 0]]\n",
      "The number of different bracelets is 6 .\n"
     ]
    }
   ],
   "source": [
    "import numpy as np\n",
    "import matplotlib.pyplot as plt\n",
    "\n",
    "#create a set of vectors (x,y) with x,y being within {0,1,...,9}\n",
    "Num_choice=[]\n",
    "for i in range(10):\n",
    "    for j in range(10):\n",
    "        Num_choice.append([i,j])\n",
    "        \n",
    "Used_comb = []\n",
    "\n",
    "#create a function that is capable of producing a bracelet based on input (x,y)\n",
    "def bracelet(vector):\n",
    "    Used_comb.append(vector)\n",
    "    Num_choice.remove(vector)\n",
    "    newer=[0,0]\n",
    "    newer = [vector[1],vector[0]+vector[1]]\n",
    "    if newer[0] > 9:\n",
    "        newer[0] = newer[0]-10\n",
    "    elif newer[1] > 9:\n",
    "        newer[1] = newer[1]-10\n",
    "    Used_comb.append(newer)\n",
    "    Num_choice.remove(newer)\n",
    "    while newer != vector:\n",
    "        newer = [newer[1],newer[0]+newer[1]]\n",
    "        if newer[0] > 9:\n",
    "            newer[0] = newer[0]-10\n",
    "        elif newer[1] > 9:\n",
    "            newer[1] = newer[1]-10\n",
    "        if newer != vector:\n",
    "            Used_comb.append(newer)\n",
    "            Num_choice.remove(newer)\n",
    "#Take into consideration that the first element in  Num_choice is (0,0)       \n",
    "Number_of_bracelets = 1\n",
    "\n",
    "#Find the number of bracelets, that don't start with (0,0)\n",
    "while len(Num_choice)>1:\n",
    "    bracelet(Num_choice[1])\n",
    "    Number_of_bracelets = Number_of_bracelets + 1\n",
    "\n",
    "#Check results\n",
    "check = len(Used_comb) \n",
    "print(check)\n",
    "print(Num_choice)\n",
    "print(\"The number of different bracelets is\", Number_of_bracelets,'.')"
   ]
  },
  {
   "cell_type": "code",
   "execution_count": null,
   "id": "57e1094f-5852-42c6-8a0c-de06f9eb14d5",
   "metadata": {},
   "outputs": [],
   "source": []
  }
 ],
 "metadata": {
  "kernelspec": {
   "display_name": "Python 3 (ipykernel)",
   "language": "python",
   "name": "python3"
  },
  "language_info": {
   "codemirror_mode": {
    "name": "ipython",
    "version": 3
   },
   "file_extension": ".py",
   "mimetype": "text/x-python",
   "name": "python",
   "nbconvert_exporter": "python",
   "pygments_lexer": "ipython3",
   "version": "3.9.7"
  }
 },
 "nbformat": 4,
 "nbformat_minor": 5
}
